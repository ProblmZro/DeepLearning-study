{
 "cells": [
  {
   "cell_type": "code",
   "execution_count": 10,
   "metadata": {},
   "outputs": [
    {
     "name": "stdout",
     "output_type": "stream",
     "text": [
      "1.0\n",
      "2.0\n",
      "--- 보충 ---\n",
      "0\n",
      "1\n",
      "2\n"
     ]
    }
   ],
   "source": [
    "# step01 : Variable 클래스 구현\n",
    "import numpy as np\n",
    "\n",
    "class Variable:\n",
    "  def __init__(self, data):\n",
    "    self.data = data\n",
    "\n",
    "data = np.array(1.0)\n",
    "x = Variable(data)\n",
    "print(x.data)\n",
    "\n",
    "x.data = np.array(2.0)\n",
    "print(x.data)\n",
    "\n",
    "# 보충\n",
    "print(\"--- 보충 ---\")\n",
    "x = np.array(1)\n",
    "print(x.ndim)\n",
    "\n",
    "x = np.array([1, 2, 3])\n",
    "print(x.ndim)\n",
    "\n",
    "x = np.array([[1, 2, 3], [4, 5, 6]])\n",
    "print(x.ndim)"
   ]
  },
  {
   "cell_type": "code",
   "execution_count": 11,
   "metadata": {},
   "outputs": [
    {
     "name": "stdout",
     "output_type": "stream",
     "text": [
      "<class '__main__.Variable'>\n",
      "100\n"
     ]
    }
   ],
   "source": [
    "# step02 : Function 클래스 구현\n",
    "import numpy as np\n",
    "\n",
    "class Function:\n",
    "  def __call__(self, input):\n",
    "    x = input.data  # 1. 데이터를 꺼냄\n",
    "    y = self.forward(x)\n",
    "    output = Variable(y)  # 2. Variable 형태로 돌림\n",
    "    return output\n",
    "  \n",
    "  def forward(self, x):\n",
    "    raise NotImplementedError()\n",
    "\n",
    "class Square(Function): # Function 상속받음\n",
    "  def forward(self, x):\n",
    "    return x ** 2\n",
    "\n",
    "x = Variable(np.array(10))\n",
    "f = Square()\n",
    "y = f(x)\n",
    "print(type(y))\n",
    "print(y.data)"
   ]
  },
  {
   "cell_type": "code",
   "execution_count": 12,
   "metadata": {},
   "outputs": [
    {
     "name": "stdout",
     "output_type": "stream",
     "text": [
      "1.648721270700128\n"
     ]
    }
   ],
   "source": [
    "# step03 : 함수 연결\n",
    "class Exp(Function):\n",
    "  def forward(self, x):\n",
    "    return np.exp(x)\n",
    "\n",
    "A = Square()\n",
    "B = Exp()\n",
    "C = Square()\n",
    "\n",
    "x = Variable(np.array(0.5))\n",
    "a = A(x)\n",
    "b = B(a)\n",
    "y = C(b)\n",
    "print(y.data)"
   ]
  },
  {
   "cell_type": "code",
   "execution_count": 15,
   "metadata": {},
   "outputs": [
    {
     "name": "stdout",
     "output_type": "stream",
     "text": [
      "4.000000000004\n",
      "3.2974426293330694\n"
     ]
    }
   ],
   "source": [
    "# step04 : 수치 미분\n",
    "def numerical_diff(f, x, eps=1e-4):\n",
    "  x0 = Variable(x.data - eps)\n",
    "  x1 = Variable(x.data + eps)\n",
    "  y0 = f(x0)\n",
    "  y1 = f(x1)\n",
    "  return (y1.data - y0.data) / (2 * eps)\n",
    "\n",
    "f = Square()  # x**2\n",
    "x = Variable(np.array(2.0))\n",
    "dy = numerical_diff(f, x)\n",
    "print(dy)\n",
    "\n",
    "# 합성 함수의 미분\n",
    "def f(x):\n",
    "  A = Square()\n",
    "  B = Exp()\n",
    "  C = Square()\n",
    "  return C(B(A(x)))\n",
    "\n",
    "x = Variable(np.array(0.5))\n",
    "dy = numerical_diff(f, x)\n",
    "print(dy)\n",
    "\n",
    "# 수치 미분 문제점 : 계산량 많음 -> 역전파"
   ]
  },
  {
   "cell_type": "code",
   "execution_count": null,
   "metadata": {},
   "outputs": [],
   "source": [
    "# step05 : 역전파 이론"
   ]
  },
  {
   "cell_type": "code",
   "execution_count": 19,
   "metadata": {},
   "outputs": [
    {
     "name": "stdout",
     "output_type": "stream",
     "text": [
      "3.297442541400256\n"
     ]
    }
   ],
   "source": [
    "# step06 : 수동 역전파\n",
    "class Variable:\n",
    "  def __init__(self, data):\n",
    "    self.data = data\n",
    "    self.grad = None  # 추가\n",
    "\n",
    "\n",
    "class Function:\n",
    "  def __call__(self, input):\n",
    "    x = input.data\n",
    "    y = self.forward(x)\n",
    "    output = Variable(y)\n",
    "    self.input = input  # 입력 변수 input을 기억\n",
    "    return output\n",
    "  \n",
    "  def forward(self, x):\n",
    "    raise NotImplementedError()\n",
    "  \n",
    "  def backward(self, x):  # 추가\n",
    "    raise NotImplementedError()\n",
    "\n",
    "\n",
    "class Square(Function): \n",
    "  def forward(self, x):\n",
    "    return x ** 2\n",
    "  \n",
    "  def backward(self, gy): # 추가\n",
    "    x = self.input.data\n",
    "    gx = 2 * x * gy\n",
    "    return gx\n",
    "\n",
    "\n",
    "class Exp(Function):\n",
    "  def forward(self, x):\n",
    "    return np.exp(x)\n",
    "  \n",
    "  def backward(self, gy): # 추가\n",
    "    x = self.input.data\n",
    "    gx = np.exp(x) * gy\n",
    "    return gx\n",
    "\n",
    "\n",
    "A = Square()\n",
    "B = Exp()\n",
    "C = Square()\n",
    "\n",
    "# forward\n",
    "x = Variable(np.array(0.5))\n",
    "a = A(x)\n",
    "b = B(a)\n",
    "y = C(b)\n",
    "\n",
    "y.grad = np.array(1.0) # 역전파는 dy/dy = 1에서 시작\n",
    "b.grad = C.backward(y.grad)\n",
    "a.grad = B.backward(b.grad)\n",
    "x.grad = A.backward(a.grad)\n",
    "print(x.grad)"
   ]
  },
  {
   "cell_type": "code",
   "execution_count": null,
   "metadata": {},
   "outputs": [],
   "source": []
  }
 ],
 "metadata": {
  "kernelspec": {
   "display_name": "Python 3.10.9 ('base')",
   "language": "python",
   "name": "python3"
  },
  "language_info": {
   "codemirror_mode": {
    "name": "ipython",
    "version": 3
   },
   "file_extension": ".py",
   "mimetype": "text/x-python",
   "name": "python",
   "nbconvert_exporter": "python",
   "pygments_lexer": "ipython3",
   "version": "3.10.9"
  },
  "orig_nbformat": 4,
  "vscode": {
   "interpreter": {
    "hash": "eed954cd35fd2a8eca9a54e7bdb0701dc68296771fbf313933745fa1a8e103e0"
   }
  }
 },
 "nbformat": 4,
 "nbformat_minor": 2
}
