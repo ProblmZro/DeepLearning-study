{
 "cells": [
  {
   "cell_type": "markdown",
   "metadata": {},
   "source": [
    "# 4장 : 신경망 학습"
   ]
  },
  {
   "cell_type": "markdown",
   "metadata": {},
   "source": [
    "# 4.1 데이터에서 학습"
   ]
  },
  {
   "cell_type": "code",
   "execution_count": null,
   "metadata": {},
   "outputs": [],
   "source": [
    "# 신경망 특징 : 데이터를 보고 학습할 수 있음\n",
    "# 학습 : 훈련 데이터로부터 가중치 매개변수의 최적값을 자동 획득\n",
    "# 훈련 데이터만 사용해서 학습하여 최적의 매개 변수 사용\n",
    "# 그 후에 시험 데이터를 사용해서 훈련 모델의 실력 평가\n",
    "# 훈련 데이터와 시험 데이터로 분류하는 이유 : 범용 능력 제대로 평가하기 위해\n",
    "# 범용 능력 : 훈련 데이터에 포함되지 않은 미지의 데이터로도 문제를 풀 수 있는 능력 "
   ]
  },
  {
   "cell_type": "markdown",
   "metadata": {},
   "source": [
    "# 4.2 손실 함수"
   ]
  },
  {
   "cell_type": "code",
   "execution_count": 3,
   "metadata": {},
   "outputs": [
    {
     "name": "stdout",
     "output_type": "stream",
     "text": [
      "0.09750000000000003\n",
      "0.5975\n"
     ]
    }
   ],
   "source": [
    "# 손실 함수 : 신경망 성능의 '나쁨' 나타내는 지표\n",
    "\n",
    "import numpy as np\n",
    "\n",
    "# 1. 오차 제곱합\n",
    "# '각 원소의 출력(추정값) - 정답 레이블(참 값)'의 제곱합\n",
    "def sum_sqaures_error(y, t):\n",
    "  return 0.5 * np.sum((y-t)**2)\n",
    "\n",
    "# 정답 : 2\n",
    "t = [0, 0, 1, 0, 0, 0, 0, 0, 0, 0]  \n",
    "\n",
    "# 예1 : '2'일 확률이 가장 높다고 추정\n",
    "y = [0.1, 0.05, 0.6, 0.0, 0.05, 0.1, 0.0, 0.1, 0.0, 0.0]\n",
    "print(sum_sqaures_error(np.array(y), np.array(t)))\n",
    "\n",
    "# 예2 : '7'일 확률이 가장 높다고 추정\n",
    "y = [0.1, 0.05, 0.1, 0.0, 0.05, 0.1, 0.0, 0.6, 0.0, 0.0]\n",
    "print(sum_sqaures_error(np.array(y), np.array(t)))"
   ]
  },
  {
   "cell_type": "code",
   "execution_count": null,
   "metadata": {},
   "outputs": [],
   "source": [
    "# 2. 교차 엔트로피 오차\n",
    "# -('정답 레이블 * log(추정값)'의 합)\n",
    "def cross_entropy_error(y, t):\n",
    "  delta = 1e-7  # 로그 함수에 0이 오지 못하도록 매우 작은 값 더함\n",
    "  return -np.sum(t * np.log(y + delta))\n",
    "\n",
    "t = [0, 0, 1, 0, 0, 0, 0, 0, 0, 0]  \n",
    "\n",
    "y = [0.1, 0.05, 0.6, 0.0, 0.05, 0.1, 0.0, 0.1, 0.0, 0.0]\n",
    "print(cross_entropy_error(np.array(y), np.array(t)))\n",
    "\n",
    "y = [0.1, 0.05, 0.1, 0.0, 0.05, 0.1, 0.0, 0.6, 0.0, 0.0]\n",
    "print(cross_entropy_error(np.array(y), np.array(t)))"
   ]
  }
 ],
 "metadata": {
  "kernelspec": {
   "display_name": "Python 3.10.9 ('base')",
   "language": "python",
   "name": "python3"
  },
  "language_info": {
   "codemirror_mode": {
    "name": "ipython",
    "version": 3
   },
   "file_extension": ".py",
   "mimetype": "text/x-python",
   "name": "python",
   "nbconvert_exporter": "python",
   "pygments_lexer": "ipython3",
   "version": "3.10.9"
  },
  "orig_nbformat": 4,
  "vscode": {
   "interpreter": {
    "hash": "eed954cd35fd2a8eca9a54e7bdb0701dc68296771fbf313933745fa1a8e103e0"
   }
  }
 },
 "nbformat": 4,
 "nbformat_minor": 2
}
